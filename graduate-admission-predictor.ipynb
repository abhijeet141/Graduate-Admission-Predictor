{
 "cells": [
  {
   "cell_type": "code",
   "execution_count": 1,
   "id": "fedb4502",
   "metadata": {
    "_cell_guid": "b1076dfc-b9ad-4769-8c92-a6c4dae69d19",
    "_uuid": "8f2839f25d086af736a60e9eeb907d3b93b6e0e5",
    "execution": {
     "iopub.execute_input": "2024-02-03T19:51:09.989186Z",
     "iopub.status.busy": "2024-02-03T19:51:09.987725Z",
     "iopub.status.idle": "2024-02-03T19:51:11.095625Z",
     "shell.execute_reply": "2024-02-03T19:51:11.094211Z"
    },
    "papermill": {
     "duration": 1.12257,
     "end_time": "2024-02-03T19:51:11.098954",
     "exception": false,
     "start_time": "2024-02-03T19:51:09.976384",
     "status": "completed"
    },
    "tags": []
   },
   "outputs": [
    {
     "name": "stdout",
     "output_type": "stream",
     "text": [
      "/kaggle/input/graduate-admissions/Admission_Predict.csv\n",
      "/kaggle/input/graduate-admissions/Admission_Predict_Ver1.1.csv\n"
     ]
    }
   ],
   "source": [
    "# This Python 3 environment comes with many helpful analytics libraries installed\n",
    "# It is defined by the kaggle/python Docker image: https://github.com/kaggle/docker-python\n",
    "# For example, here's several helpful packages to load\n",
    "\n",
    "import numpy as np # linear algebra\n",
    "import pandas as pd # data processing, CSV file I/O (e.g. pd.read_csv)\n",
    "\n",
    "# Input data files are available in the read-only \"../input/\" directory\n",
    "# For example, running this (by clicking run or pressing Shift+Enter) will list all files under the input directory\n",
    "\n",
    "import os\n",
    "for dirname, _, filenames in os.walk('/kaggle/input'):\n",
    "    for filename in filenames:\n",
    "        print(os.path.join(dirname, filename))\n",
    "\n",
    "# You can write up to 20GB to the current directory (/kaggle/working/) that gets preserved as output when you create a version using \"Save & Run All\" \n",
    "# You can also write temporary files to /kaggle/temp/, but they won't be saved outside of the current session"
   ]
  },
  {
   "cell_type": "code",
   "execution_count": 2,
   "id": "42b07810",
   "metadata": {
    "execution": {
     "iopub.execute_input": "2024-02-03T19:51:11.118499Z",
     "iopub.status.busy": "2024-02-03T19:51:11.117956Z",
     "iopub.status.idle": "2024-02-03T19:51:11.139357Z",
     "shell.execute_reply": "2024-02-03T19:51:11.138291Z"
    },
    "papermill": {
     "duration": 0.034116,
     "end_time": "2024-02-03T19:51:11.142158",
     "exception": false,
     "start_time": "2024-02-03T19:51:11.108042",
     "status": "completed"
    },
    "tags": []
   },
   "outputs": [],
   "source": [
    "df = pd.read_csv('/kaggle/input/graduate-admissions/Admission_Predict_Ver1.1.csv')"
   ]
  },
  {
   "cell_type": "code",
   "execution_count": 3,
   "id": "d7c753e6",
   "metadata": {
    "execution": {
     "iopub.execute_input": "2024-02-03T19:51:11.161601Z",
     "iopub.status.busy": "2024-02-03T19:51:11.161220Z",
     "iopub.status.idle": "2024-02-03T19:51:11.186239Z",
     "shell.execute_reply": "2024-02-03T19:51:11.184724Z"
    },
    "papermill": {
     "duration": 0.038152,
     "end_time": "2024-02-03T19:51:11.189056",
     "exception": false,
     "start_time": "2024-02-03T19:51:11.150904",
     "status": "completed"
    },
    "tags": []
   },
   "outputs": [
    {
     "data": {
      "text/html": [
       "<div>\n",
       "<style scoped>\n",
       "    .dataframe tbody tr th:only-of-type {\n",
       "        vertical-align: middle;\n",
       "    }\n",
       "\n",
       "    .dataframe tbody tr th {\n",
       "        vertical-align: top;\n",
       "    }\n",
       "\n",
       "    .dataframe thead th {\n",
       "        text-align: right;\n",
       "    }\n",
       "</style>\n",
       "<table border=\"1\" class=\"dataframe\">\n",
       "  <thead>\n",
       "    <tr style=\"text-align: right;\">\n",
       "      <th></th>\n",
       "      <th>Serial No.</th>\n",
       "      <th>GRE Score</th>\n",
       "      <th>TOEFL Score</th>\n",
       "      <th>University Rating</th>\n",
       "      <th>SOP</th>\n",
       "      <th>LOR</th>\n",
       "      <th>CGPA</th>\n",
       "      <th>Research</th>\n",
       "      <th>Chance of Admit</th>\n",
       "    </tr>\n",
       "  </thead>\n",
       "  <tbody>\n",
       "    <tr>\n",
       "      <th>0</th>\n",
       "      <td>1</td>\n",
       "      <td>337</td>\n",
       "      <td>118</td>\n",
       "      <td>4</td>\n",
       "      <td>4.5</td>\n",
       "      <td>4.5</td>\n",
       "      <td>9.65</td>\n",
       "      <td>1</td>\n",
       "      <td>0.92</td>\n",
       "    </tr>\n",
       "    <tr>\n",
       "      <th>1</th>\n",
       "      <td>2</td>\n",
       "      <td>324</td>\n",
       "      <td>107</td>\n",
       "      <td>4</td>\n",
       "      <td>4.0</td>\n",
       "      <td>4.5</td>\n",
       "      <td>8.87</td>\n",
       "      <td>1</td>\n",
       "      <td>0.76</td>\n",
       "    </tr>\n",
       "    <tr>\n",
       "      <th>2</th>\n",
       "      <td>3</td>\n",
       "      <td>316</td>\n",
       "      <td>104</td>\n",
       "      <td>3</td>\n",
       "      <td>3.0</td>\n",
       "      <td>3.5</td>\n",
       "      <td>8.00</td>\n",
       "      <td>1</td>\n",
       "      <td>0.72</td>\n",
       "    </tr>\n",
       "    <tr>\n",
       "      <th>3</th>\n",
       "      <td>4</td>\n",
       "      <td>322</td>\n",
       "      <td>110</td>\n",
       "      <td>3</td>\n",
       "      <td>3.5</td>\n",
       "      <td>2.5</td>\n",
       "      <td>8.67</td>\n",
       "      <td>1</td>\n",
       "      <td>0.80</td>\n",
       "    </tr>\n",
       "    <tr>\n",
       "      <th>4</th>\n",
       "      <td>5</td>\n",
       "      <td>314</td>\n",
       "      <td>103</td>\n",
       "      <td>2</td>\n",
       "      <td>2.0</td>\n",
       "      <td>3.0</td>\n",
       "      <td>8.21</td>\n",
       "      <td>0</td>\n",
       "      <td>0.65</td>\n",
       "    </tr>\n",
       "  </tbody>\n",
       "</table>\n",
       "</div>"
      ],
      "text/plain": [
       "   Serial No.  GRE Score  TOEFL Score  University Rating  SOP  LOR   CGPA  \\\n",
       "0           1        337          118                  4  4.5   4.5  9.65   \n",
       "1           2        324          107                  4  4.0   4.5  8.87   \n",
       "2           3        316          104                  3  3.0   3.5  8.00   \n",
       "3           4        322          110                  3  3.5   2.5  8.67   \n",
       "4           5        314          103                  2  2.0   3.0  8.21   \n",
       "\n",
       "   Research  Chance of Admit   \n",
       "0         1              0.92  \n",
       "1         1              0.76  \n",
       "2         1              0.72  \n",
       "3         1              0.80  \n",
       "4         0              0.65  "
      ]
     },
     "execution_count": 3,
     "metadata": {},
     "output_type": "execute_result"
    }
   ],
   "source": [
    "df.head()"
   ]
  },
  {
   "cell_type": "code",
   "execution_count": 4,
   "id": "77df792e",
   "metadata": {
    "execution": {
     "iopub.execute_input": "2024-02-03T19:51:11.209496Z",
     "iopub.status.busy": "2024-02-03T19:51:11.209087Z",
     "iopub.status.idle": "2024-02-03T19:51:11.217297Z",
     "shell.execute_reply": "2024-02-03T19:51:11.216122Z"
    },
    "papermill": {
     "duration": 0.021445,
     "end_time": "2024-02-03T19:51:11.219718",
     "exception": false,
     "start_time": "2024-02-03T19:51:11.198273",
     "status": "completed"
    },
    "tags": []
   },
   "outputs": [
    {
     "data": {
      "text/plain": [
       "(500, 9)"
      ]
     },
     "execution_count": 4,
     "metadata": {},
     "output_type": "execute_result"
    }
   ],
   "source": [
    "df.shape"
   ]
  },
  {
   "cell_type": "code",
   "execution_count": 5,
   "id": "c4ac525e",
   "metadata": {
    "execution": {
     "iopub.execute_input": "2024-02-03T19:51:11.242136Z",
     "iopub.status.busy": "2024-02-03T19:51:11.241795Z",
     "iopub.status.idle": "2024-02-03T19:51:11.273214Z",
     "shell.execute_reply": "2024-02-03T19:51:11.271734Z"
    },
    "papermill": {
     "duration": 0.045558,
     "end_time": "2024-02-03T19:51:11.275413",
     "exception": false,
     "start_time": "2024-02-03T19:51:11.229855",
     "status": "completed"
    },
    "tags": []
   },
   "outputs": [
    {
     "name": "stdout",
     "output_type": "stream",
     "text": [
      "<class 'pandas.core.frame.DataFrame'>\n",
      "RangeIndex: 500 entries, 0 to 499\n",
      "Data columns (total 9 columns):\n",
      " #   Column             Non-Null Count  Dtype  \n",
      "---  ------             --------------  -----  \n",
      " 0   Serial No.         500 non-null    int64  \n",
      " 1   GRE Score          500 non-null    int64  \n",
      " 2   TOEFL Score        500 non-null    int64  \n",
      " 3   University Rating  500 non-null    int64  \n",
      " 4   SOP                500 non-null    float64\n",
      " 5   LOR                500 non-null    float64\n",
      " 6   CGPA               500 non-null    float64\n",
      " 7   Research           500 non-null    int64  \n",
      " 8   Chance of Admit    500 non-null    float64\n",
      "dtypes: float64(4), int64(5)\n",
      "memory usage: 35.3 KB\n"
     ]
    }
   ],
   "source": [
    "df.info()"
   ]
  },
  {
   "cell_type": "code",
   "execution_count": 6,
   "id": "b3fec6bc",
   "metadata": {
    "execution": {
     "iopub.execute_input": "2024-02-03T19:51:11.297500Z",
     "iopub.status.busy": "2024-02-03T19:51:11.296807Z",
     "iopub.status.idle": "2024-02-03T19:51:11.305479Z",
     "shell.execute_reply": "2024-02-03T19:51:11.304544Z"
    },
    "papermill": {
     "duration": 0.022119,
     "end_time": "2024-02-03T19:51:11.307644",
     "exception": false,
     "start_time": "2024-02-03T19:51:11.285525",
     "status": "completed"
    },
    "tags": []
   },
   "outputs": [
    {
     "data": {
      "text/plain": [
       "0"
      ]
     },
     "execution_count": 6,
     "metadata": {},
     "output_type": "execute_result"
    }
   ],
   "source": [
    "df.duplicated().sum()"
   ]
  },
  {
   "cell_type": "code",
   "execution_count": 7,
   "id": "f07836db",
   "metadata": {
    "execution": {
     "iopub.execute_input": "2024-02-03T19:51:11.328502Z",
     "iopub.status.busy": "2024-02-03T19:51:11.327831Z",
     "iopub.status.idle": "2024-02-03T19:51:11.334881Z",
     "shell.execute_reply": "2024-02-03T19:51:11.333857Z"
    },
    "papermill": {
     "duration": 0.020332,
     "end_time": "2024-02-03T19:51:11.337507",
     "exception": false,
     "start_time": "2024-02-03T19:51:11.317175",
     "status": "completed"
    },
    "tags": []
   },
   "outputs": [],
   "source": [
    "#Min-Max Scale(when we know upper and lower bound)\n",
    "df.drop(columns=['Serial No.'],inplace=True)"
   ]
  },
  {
   "cell_type": "code",
   "execution_count": 8,
   "id": "9eb84286",
   "metadata": {
    "execution": {
     "iopub.execute_input": "2024-02-03T19:51:11.358847Z",
     "iopub.status.busy": "2024-02-03T19:51:11.358418Z",
     "iopub.status.idle": "2024-02-03T19:51:11.378301Z",
     "shell.execute_reply": "2024-02-03T19:51:11.376901Z"
    },
    "papermill": {
     "duration": 0.033276,
     "end_time": "2024-02-03T19:51:11.380597",
     "exception": false,
     "start_time": "2024-02-03T19:51:11.347321",
     "status": "completed"
    },
    "tags": []
   },
   "outputs": [
    {
     "data": {
      "text/html": [
       "<div>\n",
       "<style scoped>\n",
       "    .dataframe tbody tr th:only-of-type {\n",
       "        vertical-align: middle;\n",
       "    }\n",
       "\n",
       "    .dataframe tbody tr th {\n",
       "        vertical-align: top;\n",
       "    }\n",
       "\n",
       "    .dataframe thead th {\n",
       "        text-align: right;\n",
       "    }\n",
       "</style>\n",
       "<table border=\"1\" class=\"dataframe\">\n",
       "  <thead>\n",
       "    <tr style=\"text-align: right;\">\n",
       "      <th></th>\n",
       "      <th>GRE Score</th>\n",
       "      <th>TOEFL Score</th>\n",
       "      <th>University Rating</th>\n",
       "      <th>SOP</th>\n",
       "      <th>LOR</th>\n",
       "      <th>CGPA</th>\n",
       "      <th>Research</th>\n",
       "      <th>Chance of Admit</th>\n",
       "    </tr>\n",
       "  </thead>\n",
       "  <tbody>\n",
       "    <tr>\n",
       "      <th>0</th>\n",
       "      <td>337</td>\n",
       "      <td>118</td>\n",
       "      <td>4</td>\n",
       "      <td>4.5</td>\n",
       "      <td>4.5</td>\n",
       "      <td>9.65</td>\n",
       "      <td>1</td>\n",
       "      <td>0.92</td>\n",
       "    </tr>\n",
       "    <tr>\n",
       "      <th>1</th>\n",
       "      <td>324</td>\n",
       "      <td>107</td>\n",
       "      <td>4</td>\n",
       "      <td>4.0</td>\n",
       "      <td>4.5</td>\n",
       "      <td>8.87</td>\n",
       "      <td>1</td>\n",
       "      <td>0.76</td>\n",
       "    </tr>\n",
       "    <tr>\n",
       "      <th>2</th>\n",
       "      <td>316</td>\n",
       "      <td>104</td>\n",
       "      <td>3</td>\n",
       "      <td>3.0</td>\n",
       "      <td>3.5</td>\n",
       "      <td>8.00</td>\n",
       "      <td>1</td>\n",
       "      <td>0.72</td>\n",
       "    </tr>\n",
       "    <tr>\n",
       "      <th>3</th>\n",
       "      <td>322</td>\n",
       "      <td>110</td>\n",
       "      <td>3</td>\n",
       "      <td>3.5</td>\n",
       "      <td>2.5</td>\n",
       "      <td>8.67</td>\n",
       "      <td>1</td>\n",
       "      <td>0.80</td>\n",
       "    </tr>\n",
       "    <tr>\n",
       "      <th>4</th>\n",
       "      <td>314</td>\n",
       "      <td>103</td>\n",
       "      <td>2</td>\n",
       "      <td>2.0</td>\n",
       "      <td>3.0</td>\n",
       "      <td>8.21</td>\n",
       "      <td>0</td>\n",
       "      <td>0.65</td>\n",
       "    </tr>\n",
       "    <tr>\n",
       "      <th>...</th>\n",
       "      <td>...</td>\n",
       "      <td>...</td>\n",
       "      <td>...</td>\n",
       "      <td>...</td>\n",
       "      <td>...</td>\n",
       "      <td>...</td>\n",
       "      <td>...</td>\n",
       "      <td>...</td>\n",
       "    </tr>\n",
       "    <tr>\n",
       "      <th>495</th>\n",
       "      <td>332</td>\n",
       "      <td>108</td>\n",
       "      <td>5</td>\n",
       "      <td>4.5</td>\n",
       "      <td>4.0</td>\n",
       "      <td>9.02</td>\n",
       "      <td>1</td>\n",
       "      <td>0.87</td>\n",
       "    </tr>\n",
       "    <tr>\n",
       "      <th>496</th>\n",
       "      <td>337</td>\n",
       "      <td>117</td>\n",
       "      <td>5</td>\n",
       "      <td>5.0</td>\n",
       "      <td>5.0</td>\n",
       "      <td>9.87</td>\n",
       "      <td>1</td>\n",
       "      <td>0.96</td>\n",
       "    </tr>\n",
       "    <tr>\n",
       "      <th>497</th>\n",
       "      <td>330</td>\n",
       "      <td>120</td>\n",
       "      <td>5</td>\n",
       "      <td>4.5</td>\n",
       "      <td>5.0</td>\n",
       "      <td>9.56</td>\n",
       "      <td>1</td>\n",
       "      <td>0.93</td>\n",
       "    </tr>\n",
       "    <tr>\n",
       "      <th>498</th>\n",
       "      <td>312</td>\n",
       "      <td>103</td>\n",
       "      <td>4</td>\n",
       "      <td>4.0</td>\n",
       "      <td>5.0</td>\n",
       "      <td>8.43</td>\n",
       "      <td>0</td>\n",
       "      <td>0.73</td>\n",
       "    </tr>\n",
       "    <tr>\n",
       "      <th>499</th>\n",
       "      <td>327</td>\n",
       "      <td>113</td>\n",
       "      <td>4</td>\n",
       "      <td>4.5</td>\n",
       "      <td>4.5</td>\n",
       "      <td>9.04</td>\n",
       "      <td>0</td>\n",
       "      <td>0.84</td>\n",
       "    </tr>\n",
       "  </tbody>\n",
       "</table>\n",
       "<p>500 rows × 8 columns</p>\n",
       "</div>"
      ],
      "text/plain": [
       "     GRE Score  TOEFL Score  University Rating  SOP  LOR   CGPA  Research  \\\n",
       "0          337          118                  4  4.5   4.5  9.65         1   \n",
       "1          324          107                  4  4.0   4.5  8.87         1   \n",
       "2          316          104                  3  3.0   3.5  8.00         1   \n",
       "3          322          110                  3  3.5   2.5  8.67         1   \n",
       "4          314          103                  2  2.0   3.0  8.21         0   \n",
       "..         ...          ...                ...  ...   ...   ...       ...   \n",
       "495        332          108                  5  4.5   4.0  9.02         1   \n",
       "496        337          117                  5  5.0   5.0  9.87         1   \n",
       "497        330          120                  5  4.5   5.0  9.56         1   \n",
       "498        312          103                  4  4.0   5.0  8.43         0   \n",
       "499        327          113                  4  4.5   4.5  9.04         0   \n",
       "\n",
       "     Chance of Admit   \n",
       "0                0.92  \n",
       "1                0.76  \n",
       "2                0.72  \n",
       "3                0.80  \n",
       "4                0.65  \n",
       "..                ...  \n",
       "495              0.87  \n",
       "496              0.96  \n",
       "497              0.93  \n",
       "498              0.73  \n",
       "499              0.84  \n",
       "\n",
       "[500 rows x 8 columns]"
      ]
     },
     "execution_count": 8,
     "metadata": {},
     "output_type": "execute_result"
    }
   ],
   "source": [
    "df"
   ]
  },
  {
   "cell_type": "code",
   "execution_count": 9,
   "id": "0ed27019",
   "metadata": {
    "execution": {
     "iopub.execute_input": "2024-02-03T19:51:11.401641Z",
     "iopub.status.busy": "2024-02-03T19:51:11.401250Z",
     "iopub.status.idle": "2024-02-03T19:51:11.407270Z",
     "shell.execute_reply": "2024-02-03T19:51:11.406016Z"
    },
    "papermill": {
     "duration": 0.020311,
     "end_time": "2024-02-03T19:51:11.410559",
     "exception": false,
     "start_time": "2024-02-03T19:51:11.390248",
     "status": "completed"
    },
    "tags": []
   },
   "outputs": [],
   "source": [
    "x = df.iloc[:,0:-1]\n",
    "y = df.iloc[:,-1]"
   ]
  },
  {
   "cell_type": "code",
   "execution_count": 10,
   "id": "c94450d8",
   "metadata": {
    "execution": {
     "iopub.execute_input": "2024-02-03T19:51:11.432217Z",
     "iopub.status.busy": "2024-02-03T19:51:11.431832Z",
     "iopub.status.idle": "2024-02-03T19:51:11.451485Z",
     "shell.execute_reply": "2024-02-03T19:51:11.450320Z"
    },
    "papermill": {
     "duration": 0.033253,
     "end_time": "2024-02-03T19:51:11.453902",
     "exception": false,
     "start_time": "2024-02-03T19:51:11.420649",
     "status": "completed"
    },
    "tags": []
   },
   "outputs": [
    {
     "data": {
      "text/html": [
       "<div>\n",
       "<style scoped>\n",
       "    .dataframe tbody tr th:only-of-type {\n",
       "        vertical-align: middle;\n",
       "    }\n",
       "\n",
       "    .dataframe tbody tr th {\n",
       "        vertical-align: top;\n",
       "    }\n",
       "\n",
       "    .dataframe thead th {\n",
       "        text-align: right;\n",
       "    }\n",
       "</style>\n",
       "<table border=\"1\" class=\"dataframe\">\n",
       "  <thead>\n",
       "    <tr style=\"text-align: right;\">\n",
       "      <th></th>\n",
       "      <th>GRE Score</th>\n",
       "      <th>TOEFL Score</th>\n",
       "      <th>University Rating</th>\n",
       "      <th>SOP</th>\n",
       "      <th>LOR</th>\n",
       "      <th>CGPA</th>\n",
       "      <th>Research</th>\n",
       "    </tr>\n",
       "  </thead>\n",
       "  <tbody>\n",
       "    <tr>\n",
       "      <th>0</th>\n",
       "      <td>337</td>\n",
       "      <td>118</td>\n",
       "      <td>4</td>\n",
       "      <td>4.5</td>\n",
       "      <td>4.5</td>\n",
       "      <td>9.65</td>\n",
       "      <td>1</td>\n",
       "    </tr>\n",
       "    <tr>\n",
       "      <th>1</th>\n",
       "      <td>324</td>\n",
       "      <td>107</td>\n",
       "      <td>4</td>\n",
       "      <td>4.0</td>\n",
       "      <td>4.5</td>\n",
       "      <td>8.87</td>\n",
       "      <td>1</td>\n",
       "    </tr>\n",
       "    <tr>\n",
       "      <th>2</th>\n",
       "      <td>316</td>\n",
       "      <td>104</td>\n",
       "      <td>3</td>\n",
       "      <td>3.0</td>\n",
       "      <td>3.5</td>\n",
       "      <td>8.00</td>\n",
       "      <td>1</td>\n",
       "    </tr>\n",
       "    <tr>\n",
       "      <th>3</th>\n",
       "      <td>322</td>\n",
       "      <td>110</td>\n",
       "      <td>3</td>\n",
       "      <td>3.5</td>\n",
       "      <td>2.5</td>\n",
       "      <td>8.67</td>\n",
       "      <td>1</td>\n",
       "    </tr>\n",
       "    <tr>\n",
       "      <th>4</th>\n",
       "      <td>314</td>\n",
       "      <td>103</td>\n",
       "      <td>2</td>\n",
       "      <td>2.0</td>\n",
       "      <td>3.0</td>\n",
       "      <td>8.21</td>\n",
       "      <td>0</td>\n",
       "    </tr>\n",
       "    <tr>\n",
       "      <th>...</th>\n",
       "      <td>...</td>\n",
       "      <td>...</td>\n",
       "      <td>...</td>\n",
       "      <td>...</td>\n",
       "      <td>...</td>\n",
       "      <td>...</td>\n",
       "      <td>...</td>\n",
       "    </tr>\n",
       "    <tr>\n",
       "      <th>495</th>\n",
       "      <td>332</td>\n",
       "      <td>108</td>\n",
       "      <td>5</td>\n",
       "      <td>4.5</td>\n",
       "      <td>4.0</td>\n",
       "      <td>9.02</td>\n",
       "      <td>1</td>\n",
       "    </tr>\n",
       "    <tr>\n",
       "      <th>496</th>\n",
       "      <td>337</td>\n",
       "      <td>117</td>\n",
       "      <td>5</td>\n",
       "      <td>5.0</td>\n",
       "      <td>5.0</td>\n",
       "      <td>9.87</td>\n",
       "      <td>1</td>\n",
       "    </tr>\n",
       "    <tr>\n",
       "      <th>497</th>\n",
       "      <td>330</td>\n",
       "      <td>120</td>\n",
       "      <td>5</td>\n",
       "      <td>4.5</td>\n",
       "      <td>5.0</td>\n",
       "      <td>9.56</td>\n",
       "      <td>1</td>\n",
       "    </tr>\n",
       "    <tr>\n",
       "      <th>498</th>\n",
       "      <td>312</td>\n",
       "      <td>103</td>\n",
       "      <td>4</td>\n",
       "      <td>4.0</td>\n",
       "      <td>5.0</td>\n",
       "      <td>8.43</td>\n",
       "      <td>0</td>\n",
       "    </tr>\n",
       "    <tr>\n",
       "      <th>499</th>\n",
       "      <td>327</td>\n",
       "      <td>113</td>\n",
       "      <td>4</td>\n",
       "      <td>4.5</td>\n",
       "      <td>4.5</td>\n",
       "      <td>9.04</td>\n",
       "      <td>0</td>\n",
       "    </tr>\n",
       "  </tbody>\n",
       "</table>\n",
       "<p>500 rows × 7 columns</p>\n",
       "</div>"
      ],
      "text/plain": [
       "     GRE Score  TOEFL Score  University Rating  SOP  LOR   CGPA  Research\n",
       "0          337          118                  4  4.5   4.5  9.65         1\n",
       "1          324          107                  4  4.0   4.5  8.87         1\n",
       "2          316          104                  3  3.0   3.5  8.00         1\n",
       "3          322          110                  3  3.5   2.5  8.67         1\n",
       "4          314          103                  2  2.0   3.0  8.21         0\n",
       "..         ...          ...                ...  ...   ...   ...       ...\n",
       "495        332          108                  5  4.5   4.0  9.02         1\n",
       "496        337          117                  5  5.0   5.0  9.87         1\n",
       "497        330          120                  5  4.5   5.0  9.56         1\n",
       "498        312          103                  4  4.0   5.0  8.43         0\n",
       "499        327          113                  4  4.5   4.5  9.04         0\n",
       "\n",
       "[500 rows x 7 columns]"
      ]
     },
     "execution_count": 10,
     "metadata": {},
     "output_type": "execute_result"
    }
   ],
   "source": [
    "x"
   ]
  },
  {
   "cell_type": "code",
   "execution_count": 11,
   "id": "dfa24b9d",
   "metadata": {
    "execution": {
     "iopub.execute_input": "2024-02-03T19:51:11.477537Z",
     "iopub.status.busy": "2024-02-03T19:51:11.477171Z",
     "iopub.status.idle": "2024-02-03T19:51:11.486487Z",
     "shell.execute_reply": "2024-02-03T19:51:11.485394Z"
    },
    "papermill": {
     "duration": 0.024539,
     "end_time": "2024-02-03T19:51:11.488813",
     "exception": false,
     "start_time": "2024-02-03T19:51:11.464274",
     "status": "completed"
    },
    "tags": []
   },
   "outputs": [
    {
     "data": {
      "text/plain": [
       "0      0.92\n",
       "1      0.76\n",
       "2      0.72\n",
       "3      0.80\n",
       "4      0.65\n",
       "       ... \n",
       "495    0.87\n",
       "496    0.96\n",
       "497    0.93\n",
       "498    0.73\n",
       "499    0.84\n",
       "Name: Chance of Admit , Length: 500, dtype: float64"
      ]
     },
     "execution_count": 11,
     "metadata": {},
     "output_type": "execute_result"
    }
   ],
   "source": [
    "y"
   ]
  },
  {
   "cell_type": "code",
   "execution_count": 12,
   "id": "13c66d32",
   "metadata": {
    "execution": {
     "iopub.execute_input": "2024-02-03T19:51:11.512105Z",
     "iopub.status.busy": "2024-02-03T19:51:11.511723Z",
     "iopub.status.idle": "2024-02-03T19:51:13.140485Z",
     "shell.execute_reply": "2024-02-03T19:51:13.138990Z"
    },
    "papermill": {
     "duration": 1.643617,
     "end_time": "2024-02-03T19:51:13.143338",
     "exception": false,
     "start_time": "2024-02-03T19:51:11.499721",
     "status": "completed"
    },
    "tags": []
   },
   "outputs": [],
   "source": [
    "from sklearn.model_selection import train_test_split\n",
    "x_train,x_test,y_train,y_test = train_test_split(x,y,test_size = 0.2,random_state=1)"
   ]
  },
  {
   "cell_type": "code",
   "execution_count": 13,
   "id": "47c30e57",
   "metadata": {
    "execution": {
     "iopub.execute_input": "2024-02-03T19:51:13.168339Z",
     "iopub.status.busy": "2024-02-03T19:51:13.167715Z",
     "iopub.status.idle": "2024-02-03T19:51:13.191105Z",
     "shell.execute_reply": "2024-02-03T19:51:13.189683Z"
    },
    "papermill": {
     "duration": 0.039389,
     "end_time": "2024-02-03T19:51:13.193927",
     "exception": false,
     "start_time": "2024-02-03T19:51:13.154538",
     "status": "completed"
    },
    "tags": []
   },
   "outputs": [
    {
     "data": {
      "text/html": [
       "<div>\n",
       "<style scoped>\n",
       "    .dataframe tbody tr th:only-of-type {\n",
       "        vertical-align: middle;\n",
       "    }\n",
       "\n",
       "    .dataframe tbody tr th {\n",
       "        vertical-align: top;\n",
       "    }\n",
       "\n",
       "    .dataframe thead th {\n",
       "        text-align: right;\n",
       "    }\n",
       "</style>\n",
       "<table border=\"1\" class=\"dataframe\">\n",
       "  <thead>\n",
       "    <tr style=\"text-align: right;\">\n",
       "      <th></th>\n",
       "      <th>GRE Score</th>\n",
       "      <th>TOEFL Score</th>\n",
       "      <th>University Rating</th>\n",
       "      <th>SOP</th>\n",
       "      <th>LOR</th>\n",
       "      <th>CGPA</th>\n",
       "      <th>Research</th>\n",
       "    </tr>\n",
       "  </thead>\n",
       "  <tbody>\n",
       "    <tr>\n",
       "      <th>238</th>\n",
       "      <td>310</td>\n",
       "      <td>104</td>\n",
       "      <td>3</td>\n",
       "      <td>2.0</td>\n",
       "      <td>3.5</td>\n",
       "      <td>8.37</td>\n",
       "      <td>0</td>\n",
       "    </tr>\n",
       "    <tr>\n",
       "      <th>438</th>\n",
       "      <td>318</td>\n",
       "      <td>110</td>\n",
       "      <td>1</td>\n",
       "      <td>2.5</td>\n",
       "      <td>3.5</td>\n",
       "      <td>8.54</td>\n",
       "      <td>1</td>\n",
       "    </tr>\n",
       "    <tr>\n",
       "      <th>475</th>\n",
       "      <td>300</td>\n",
       "      <td>101</td>\n",
       "      <td>3</td>\n",
       "      <td>3.5</td>\n",
       "      <td>2.5</td>\n",
       "      <td>7.88</td>\n",
       "      <td>0</td>\n",
       "    </tr>\n",
       "    <tr>\n",
       "      <th>58</th>\n",
       "      <td>300</td>\n",
       "      <td>99</td>\n",
       "      <td>1</td>\n",
       "      <td>3.0</td>\n",
       "      <td>2.0</td>\n",
       "      <td>6.80</td>\n",
       "      <td>1</td>\n",
       "    </tr>\n",
       "    <tr>\n",
       "      <th>380</th>\n",
       "      <td>322</td>\n",
       "      <td>104</td>\n",
       "      <td>3</td>\n",
       "      <td>3.5</td>\n",
       "      <td>4.0</td>\n",
       "      <td>8.84</td>\n",
       "      <td>1</td>\n",
       "    </tr>\n",
       "    <tr>\n",
       "      <th>...</th>\n",
       "      <td>...</td>\n",
       "      <td>...</td>\n",
       "      <td>...</td>\n",
       "      <td>...</td>\n",
       "      <td>...</td>\n",
       "      <td>...</td>\n",
       "      <td>...</td>\n",
       "    </tr>\n",
       "    <tr>\n",
       "      <th>255</th>\n",
       "      <td>307</td>\n",
       "      <td>110</td>\n",
       "      <td>4</td>\n",
       "      <td>4.0</td>\n",
       "      <td>4.5</td>\n",
       "      <td>8.37</td>\n",
       "      <td>0</td>\n",
       "    </tr>\n",
       "    <tr>\n",
       "      <th>72</th>\n",
       "      <td>321</td>\n",
       "      <td>111</td>\n",
       "      <td>5</td>\n",
       "      <td>5.0</td>\n",
       "      <td>5.0</td>\n",
       "      <td>9.45</td>\n",
       "      <td>1</td>\n",
       "    </tr>\n",
       "    <tr>\n",
       "      <th>396</th>\n",
       "      <td>325</td>\n",
       "      <td>107</td>\n",
       "      <td>3</td>\n",
       "      <td>3.0</td>\n",
       "      <td>3.5</td>\n",
       "      <td>9.11</td>\n",
       "      <td>1</td>\n",
       "    </tr>\n",
       "    <tr>\n",
       "      <th>235</th>\n",
       "      <td>326</td>\n",
       "      <td>111</td>\n",
       "      <td>5</td>\n",
       "      <td>4.5</td>\n",
       "      <td>4.0</td>\n",
       "      <td>9.23</td>\n",
       "      <td>1</td>\n",
       "    </tr>\n",
       "    <tr>\n",
       "      <th>37</th>\n",
       "      <td>300</td>\n",
       "      <td>105</td>\n",
       "      <td>1</td>\n",
       "      <td>1.0</td>\n",
       "      <td>2.0</td>\n",
       "      <td>7.80</td>\n",
       "      <td>0</td>\n",
       "    </tr>\n",
       "  </tbody>\n",
       "</table>\n",
       "<p>400 rows × 7 columns</p>\n",
       "</div>"
      ],
      "text/plain": [
       "     GRE Score  TOEFL Score  University Rating  SOP  LOR   CGPA  Research\n",
       "238        310          104                  3  2.0   3.5  8.37         0\n",
       "438        318          110                  1  2.5   3.5  8.54         1\n",
       "475        300          101                  3  3.5   2.5  7.88         0\n",
       "58         300           99                  1  3.0   2.0  6.80         1\n",
       "380        322          104                  3  3.5   4.0  8.84         1\n",
       "..         ...          ...                ...  ...   ...   ...       ...\n",
       "255        307          110                  4  4.0   4.5  8.37         0\n",
       "72         321          111                  5  5.0   5.0  9.45         1\n",
       "396        325          107                  3  3.0   3.5  9.11         1\n",
       "235        326          111                  5  4.5   4.0  9.23         1\n",
       "37         300          105                  1  1.0   2.0  7.80         0\n",
       "\n",
       "[400 rows x 7 columns]"
      ]
     },
     "execution_count": 13,
     "metadata": {},
     "output_type": "execute_result"
    }
   ],
   "source": [
    "x_train"
   ]
  },
  {
   "cell_type": "code",
   "execution_count": 14,
   "id": "8fde8940",
   "metadata": {
    "execution": {
     "iopub.execute_input": "2024-02-03T19:51:13.216785Z",
     "iopub.status.busy": "2024-02-03T19:51:13.216394Z",
     "iopub.status.idle": "2024-02-03T19:51:13.237003Z",
     "shell.execute_reply": "2024-02-03T19:51:13.235166Z"
    },
    "papermill": {
     "duration": 0.035609,
     "end_time": "2024-02-03T19:51:13.240159",
     "exception": false,
     "start_time": "2024-02-03T19:51:13.204550",
     "status": "completed"
    },
    "tags": []
   },
   "outputs": [
    {
     "data": {
      "text/html": [
       "<div>\n",
       "<style scoped>\n",
       "    .dataframe tbody tr th:only-of-type {\n",
       "        vertical-align: middle;\n",
       "    }\n",
       "\n",
       "    .dataframe tbody tr th {\n",
       "        vertical-align: top;\n",
       "    }\n",
       "\n",
       "    .dataframe thead th {\n",
       "        text-align: right;\n",
       "    }\n",
       "</style>\n",
       "<table border=\"1\" class=\"dataframe\">\n",
       "  <thead>\n",
       "    <tr style=\"text-align: right;\">\n",
       "      <th></th>\n",
       "      <th>GRE Score</th>\n",
       "      <th>TOEFL Score</th>\n",
       "      <th>University Rating</th>\n",
       "      <th>SOP</th>\n",
       "      <th>LOR</th>\n",
       "      <th>CGPA</th>\n",
       "      <th>Research</th>\n",
       "    </tr>\n",
       "  </thead>\n",
       "  <tbody>\n",
       "    <tr>\n",
       "      <th>304</th>\n",
       "      <td>313</td>\n",
       "      <td>106</td>\n",
       "      <td>2</td>\n",
       "      <td>2.5</td>\n",
       "      <td>2.0</td>\n",
       "      <td>8.43</td>\n",
       "      <td>0</td>\n",
       "    </tr>\n",
       "    <tr>\n",
       "      <th>340</th>\n",
       "      <td>312</td>\n",
       "      <td>107</td>\n",
       "      <td>3</td>\n",
       "      <td>3.0</td>\n",
       "      <td>3.0</td>\n",
       "      <td>8.46</td>\n",
       "      <td>1</td>\n",
       "    </tr>\n",
       "    <tr>\n",
       "      <th>47</th>\n",
       "      <td>339</td>\n",
       "      <td>119</td>\n",
       "      <td>5</td>\n",
       "      <td>4.5</td>\n",
       "      <td>4.0</td>\n",
       "      <td>9.70</td>\n",
       "      <td>0</td>\n",
       "    </tr>\n",
       "    <tr>\n",
       "      <th>67</th>\n",
       "      <td>316</td>\n",
       "      <td>107</td>\n",
       "      <td>2</td>\n",
       "      <td>3.5</td>\n",
       "      <td>3.5</td>\n",
       "      <td>8.64</td>\n",
       "      <td>1</td>\n",
       "    </tr>\n",
       "    <tr>\n",
       "      <th>479</th>\n",
       "      <td>325</td>\n",
       "      <td>110</td>\n",
       "      <td>4</td>\n",
       "      <td>4.5</td>\n",
       "      <td>4.0</td>\n",
       "      <td>8.96</td>\n",
       "      <td>1</td>\n",
       "    </tr>\n",
       "    <tr>\n",
       "      <th>...</th>\n",
       "      <td>...</td>\n",
       "      <td>...</td>\n",
       "      <td>...</td>\n",
       "      <td>...</td>\n",
       "      <td>...</td>\n",
       "      <td>...</td>\n",
       "      <td>...</td>\n",
       "    </tr>\n",
       "    <tr>\n",
       "      <th>11</th>\n",
       "      <td>327</td>\n",
       "      <td>111</td>\n",
       "      <td>4</td>\n",
       "      <td>4.0</td>\n",
       "      <td>4.5</td>\n",
       "      <td>9.00</td>\n",
       "      <td>1</td>\n",
       "    </tr>\n",
       "    <tr>\n",
       "      <th>192</th>\n",
       "      <td>322</td>\n",
       "      <td>114</td>\n",
       "      <td>5</td>\n",
       "      <td>4.5</td>\n",
       "      <td>4.0</td>\n",
       "      <td>8.94</td>\n",
       "      <td>1</td>\n",
       "    </tr>\n",
       "    <tr>\n",
       "      <th>92</th>\n",
       "      <td>298</td>\n",
       "      <td>98</td>\n",
       "      <td>2</td>\n",
       "      <td>4.0</td>\n",
       "      <td>3.0</td>\n",
       "      <td>8.03</td>\n",
       "      <td>0</td>\n",
       "    </tr>\n",
       "    <tr>\n",
       "      <th>221</th>\n",
       "      <td>316</td>\n",
       "      <td>110</td>\n",
       "      <td>3</td>\n",
       "      <td>3.5</td>\n",
       "      <td>4.0</td>\n",
       "      <td>8.56</td>\n",
       "      <td>0</td>\n",
       "    </tr>\n",
       "    <tr>\n",
       "      <th>110</th>\n",
       "      <td>305</td>\n",
       "      <td>108</td>\n",
       "      <td>5</td>\n",
       "      <td>3.0</td>\n",
       "      <td>3.0</td>\n",
       "      <td>8.48</td>\n",
       "      <td>0</td>\n",
       "    </tr>\n",
       "  </tbody>\n",
       "</table>\n",
       "<p>100 rows × 7 columns</p>\n",
       "</div>"
      ],
      "text/plain": [
       "     GRE Score  TOEFL Score  University Rating  SOP  LOR   CGPA  Research\n",
       "304        313          106                  2  2.5   2.0  8.43         0\n",
       "340        312          107                  3  3.0   3.0  8.46         1\n",
       "47         339          119                  5  4.5   4.0  9.70         0\n",
       "67         316          107                  2  3.5   3.5  8.64         1\n",
       "479        325          110                  4  4.5   4.0  8.96         1\n",
       "..         ...          ...                ...  ...   ...   ...       ...\n",
       "11         327          111                  4  4.0   4.5  9.00         1\n",
       "192        322          114                  5  4.5   4.0  8.94         1\n",
       "92         298           98                  2  4.0   3.0  8.03         0\n",
       "221        316          110                  3  3.5   4.0  8.56         0\n",
       "110        305          108                  5  3.0   3.0  8.48         0\n",
       "\n",
       "[100 rows x 7 columns]"
      ]
     },
     "execution_count": 14,
     "metadata": {},
     "output_type": "execute_result"
    }
   ],
   "source": [
    "x_test"
   ]
  },
  {
   "cell_type": "code",
   "execution_count": 15,
   "id": "c5388162",
   "metadata": {
    "execution": {
     "iopub.execute_input": "2024-02-03T19:51:13.265464Z",
     "iopub.status.busy": "2024-02-03T19:51:13.265077Z",
     "iopub.status.idle": "2024-02-03T19:51:13.277318Z",
     "shell.execute_reply": "2024-02-03T19:51:13.276115Z"
    },
    "papermill": {
     "duration": 0.028329,
     "end_time": "2024-02-03T19:51:13.279972",
     "exception": false,
     "start_time": "2024-02-03T19:51:13.251643",
     "status": "completed"
    },
    "tags": []
   },
   "outputs": [],
   "source": [
    "from sklearn.preprocessing import MinMaxScaler\n",
    "scaler = MinMaxScaler()\n",
    "\n",
    "x_train_scaled = scaler.fit_transform(x_train)\n",
    "x_test_scaled = scaler.transform(x_test)"
   ]
  },
  {
   "cell_type": "code",
   "execution_count": 16,
   "id": "c1d7d534",
   "metadata": {
    "execution": {
     "iopub.execute_input": "2024-02-03T19:51:13.304401Z",
     "iopub.status.busy": "2024-02-03T19:51:13.303997Z",
     "iopub.status.idle": "2024-02-03T19:51:13.311153Z",
     "shell.execute_reply": "2024-02-03T19:51:13.309975Z"
    },
    "papermill": {
     "duration": 0.022192,
     "end_time": "2024-02-03T19:51:13.313637",
     "exception": false,
     "start_time": "2024-02-03T19:51:13.291445",
     "status": "completed"
    },
    "tags": []
   },
   "outputs": [
    {
     "data": {
      "text/plain": [
       "array([[0.4       , 0.42857143, 0.5       , ..., 0.57142857, 0.50320513,\n",
       "        0.        ],\n",
       "       [0.56      , 0.64285714, 0.        , ..., 0.57142857, 0.55769231,\n",
       "        1.        ],\n",
       "       [0.2       , 0.32142857, 0.5       , ..., 0.28571429, 0.34615385,\n",
       "        0.        ],\n",
       "       ...,\n",
       "       [0.7       , 0.53571429, 0.5       , ..., 0.57142857, 0.74038462,\n",
       "        1.        ],\n",
       "       [0.72      , 0.67857143, 1.        , ..., 0.71428571, 0.77884615,\n",
       "        1.        ],\n",
       "       [0.2       , 0.46428571, 0.        , ..., 0.14285714, 0.32051282,\n",
       "        0.        ]])"
      ]
     },
     "execution_count": 16,
     "metadata": {},
     "output_type": "execute_result"
    }
   ],
   "source": [
    "x_train_scaled"
   ]
  },
  {
   "cell_type": "code",
   "execution_count": 17,
   "id": "fe24e351",
   "metadata": {
    "execution": {
     "iopub.execute_input": "2024-02-03T19:51:13.339442Z",
     "iopub.status.busy": "2024-02-03T19:51:13.339048Z",
     "iopub.status.idle": "2024-02-03T19:51:29.475423Z",
     "shell.execute_reply": "2024-02-03T19:51:29.474263Z"
    },
    "papermill": {
     "duration": 16.152774,
     "end_time": "2024-02-03T19:51:29.478332",
     "exception": false,
     "start_time": "2024-02-03T19:51:13.325558",
     "status": "completed"
    },
    "tags": []
   },
   "outputs": [
    {
     "name": "stderr",
     "output_type": "stream",
     "text": [
      "2024-02-03 19:51:15.881927: E external/local_xla/xla/stream_executor/cuda/cuda_dnn.cc:9261] Unable to register cuDNN factory: Attempting to register factory for plugin cuDNN when one has already been registered\n",
      "2024-02-03 19:51:15.882070: E external/local_xla/xla/stream_executor/cuda/cuda_fft.cc:607] Unable to register cuFFT factory: Attempting to register factory for plugin cuFFT when one has already been registered\n",
      "2024-02-03 19:51:16.061837: E external/local_xla/xla/stream_executor/cuda/cuda_blas.cc:1515] Unable to register cuBLAS factory: Attempting to register factory for plugin cuBLAS when one has already been registered\n"
     ]
    }
   ],
   "source": [
    "import tensorflow\n",
    "from tensorflow import keras\n",
    "from keras import Sequential\n",
    "from keras.layers import Dense"
   ]
  },
  {
   "cell_type": "code",
   "execution_count": 18,
   "id": "d6c0f63f",
   "metadata": {
    "execution": {
     "iopub.execute_input": "2024-02-03T19:51:29.503746Z",
     "iopub.status.busy": "2024-02-03T19:51:29.503036Z",
     "iopub.status.idle": "2024-02-03T19:51:29.658329Z",
     "shell.execute_reply": "2024-02-03T19:51:29.656983Z"
    },
    "papermill": {
     "duration": 0.170633,
     "end_time": "2024-02-03T19:51:29.661020",
     "exception": false,
     "start_time": "2024-02-03T19:51:29.490387",
     "status": "completed"
    },
    "tags": []
   },
   "outputs": [],
   "source": [
    "model = Sequential()\n",
    "model.add(Dense(7,activation='relu',input_dim = 7))\n",
    "model.add(Dense(7,activation='relu'))\n",
    "model.add(Dense(1,activation='linear'))"
   ]
  },
  {
   "cell_type": "code",
   "execution_count": 19,
   "id": "17e1f9d0",
   "metadata": {
    "execution": {
     "iopub.execute_input": "2024-02-03T19:51:29.686136Z",
     "iopub.status.busy": "2024-02-03T19:51:29.685321Z",
     "iopub.status.idle": "2024-02-03T19:51:29.706543Z",
     "shell.execute_reply": "2024-02-03T19:51:29.705235Z"
    },
    "papermill": {
     "duration": 0.036611,
     "end_time": "2024-02-03T19:51:29.709002",
     "exception": false,
     "start_time": "2024-02-03T19:51:29.672391",
     "status": "completed"
    },
    "tags": []
   },
   "outputs": [
    {
     "name": "stdout",
     "output_type": "stream",
     "text": [
      "Model: \"sequential\"\n",
      "_________________________________________________________________\n",
      " Layer (type)                Output Shape              Param #   \n",
      "=================================================================\n",
      " dense (Dense)               (None, 7)                 56        \n",
      "                                                                 \n",
      " dense_1 (Dense)             (None, 7)                 56        \n",
      "                                                                 \n",
      " dense_2 (Dense)             (None, 1)                 8         \n",
      "                                                                 \n",
      "=================================================================\n",
      "Total params: 120 (480.00 Byte)\n",
      "Trainable params: 120 (480.00 Byte)\n",
      "Non-trainable params: 0 (0.00 Byte)\n",
      "_________________________________________________________________\n"
     ]
    }
   ],
   "source": [
    "model.summary()"
   ]
  },
  {
   "cell_type": "code",
   "execution_count": 20,
   "id": "cbc2b3f2",
   "metadata": {
    "execution": {
     "iopub.execute_input": "2024-02-03T19:51:29.736351Z",
     "iopub.status.busy": "2024-02-03T19:51:29.735958Z",
     "iopub.status.idle": "2024-02-03T19:51:29.757652Z",
     "shell.execute_reply": "2024-02-03T19:51:29.756366Z"
    },
    "papermill": {
     "duration": 0.038901,
     "end_time": "2024-02-03T19:51:29.760610",
     "exception": false,
     "start_time": "2024-02-03T19:51:29.721709",
     "status": "completed"
    },
    "tags": []
   },
   "outputs": [],
   "source": [
    "model.compile(loss='mean_squared_error',optimizer='Adam')"
   ]
  },
  {
   "cell_type": "markdown",
   "id": "2cd44789",
   "metadata": {
    "papermill": {
     "duration": 0.012512,
     "end_time": "2024-02-03T19:51:29.785716",
     "exception": false,
     "start_time": "2024-02-03T19:51:29.773204",
     "status": "completed"
    },
    "tags": []
   },
   "source": []
  },
  {
   "cell_type": "code",
   "execution_count": 21,
   "id": "26331b4a",
   "metadata": {
    "execution": {
     "iopub.execute_input": "2024-02-03T19:51:29.814521Z",
     "iopub.status.busy": "2024-02-03T19:51:29.814018Z",
     "iopub.status.idle": "2024-02-03T19:51:36.816865Z",
     "shell.execute_reply": "2024-02-03T19:51:36.815735Z"
    },
    "papermill": {
     "duration": 7.020757,
     "end_time": "2024-02-03T19:51:36.819525",
     "exception": false,
     "start_time": "2024-02-03T19:51:29.798768",
     "status": "completed"
    },
    "tags": []
   },
   "outputs": [
    {
     "name": "stdout",
     "output_type": "stream",
     "text": [
      "Epoch 1/100\n",
      "10/10 [==============================] - 1s 25ms/step - loss: 0.6947 - val_loss: 0.6534\n",
      "Epoch 2/100\n",
      "10/10 [==============================] - 0s 7ms/step - loss: 0.5027 - val_loss: 0.4841\n",
      "Epoch 3/100\n",
      "10/10 [==============================] - 0s 5ms/step - loss: 0.3734 - val_loss: 0.3633\n",
      "Epoch 4/100\n",
      "10/10 [==============================] - 0s 5ms/step - loss: 0.2761 - val_loss: 0.2674\n",
      "Epoch 5/100\n",
      "10/10 [==============================] - 0s 5ms/step - loss: 0.2005 - val_loss: 0.1906\n",
      "Epoch 6/100\n",
      "10/10 [==============================] - 0s 5ms/step - loss: 0.1401 - val_loss: 0.1317\n",
      "Epoch 7/100\n",
      "10/10 [==============================] - 0s 5ms/step - loss: 0.0955 - val_loss: 0.0900\n",
      "Epoch 8/100\n",
      "10/10 [==============================] - 0s 6ms/step - loss: 0.0656 - val_loss: 0.0626\n",
      "Epoch 9/100\n",
      "10/10 [==============================] - 0s 5ms/step - loss: 0.0469 - val_loss: 0.0466\n",
      "Epoch 10/100\n",
      "10/10 [==============================] - 0s 7ms/step - loss: 0.0372 - val_loss: 0.0375\n",
      "Epoch 11/100\n",
      "10/10 [==============================] - 0s 5ms/step - loss: 0.0320 - val_loss: 0.0328\n",
      "Epoch 12/100\n",
      "10/10 [==============================] - 0s 5ms/step - loss: 0.0292 - val_loss: 0.0302\n",
      "Epoch 13/100\n",
      "10/10 [==============================] - 0s 6ms/step - loss: 0.0276 - val_loss: 0.0285\n",
      "Epoch 14/100\n",
      "10/10 [==============================] - 0s 6ms/step - loss: 0.0262 - val_loss: 0.0271\n",
      "Epoch 15/100\n",
      "10/10 [==============================] - 0s 5ms/step - loss: 0.0252 - val_loss: 0.0258\n",
      "Epoch 16/100\n",
      "10/10 [==============================] - 0s 5ms/step - loss: 0.0241 - val_loss: 0.0247\n",
      "Epoch 17/100\n",
      "10/10 [==============================] - 0s 5ms/step - loss: 0.0232 - val_loss: 0.0237\n",
      "Epoch 18/100\n",
      "10/10 [==============================] - 0s 6ms/step - loss: 0.0224 - val_loss: 0.0227\n",
      "Epoch 19/100\n",
      "10/10 [==============================] - 0s 8ms/step - loss: 0.0216 - val_loss: 0.0217\n",
      "Epoch 20/100\n",
      "10/10 [==============================] - 0s 6ms/step - loss: 0.0208 - val_loss: 0.0208\n",
      "Epoch 21/100\n",
      "10/10 [==============================] - 0s 5ms/step - loss: 0.0200 - val_loss: 0.0199\n",
      "Epoch 22/100\n",
      "10/10 [==============================] - 0s 5ms/step - loss: 0.0193 - val_loss: 0.0191\n",
      "Epoch 23/100\n",
      "10/10 [==============================] - 0s 6ms/step - loss: 0.0185 - val_loss: 0.0184\n",
      "Epoch 24/100\n",
      "10/10 [==============================] - 0s 6ms/step - loss: 0.0179 - val_loss: 0.0176\n",
      "Epoch 25/100\n",
      "10/10 [==============================] - 0s 5ms/step - loss: 0.0172 - val_loss: 0.0168\n",
      "Epoch 26/100\n",
      "10/10 [==============================] - 0s 5ms/step - loss: 0.0166 - val_loss: 0.0162\n",
      "Epoch 27/100\n",
      "10/10 [==============================] - 0s 5ms/step - loss: 0.0160 - val_loss: 0.0155\n",
      "Epoch 28/100\n",
      "10/10 [==============================] - 0s 6ms/step - loss: 0.0155 - val_loss: 0.0149\n",
      "Epoch 29/100\n",
      "10/10 [==============================] - 0s 5ms/step - loss: 0.0150 - val_loss: 0.0143\n",
      "Epoch 30/100\n",
      "10/10 [==============================] - 0s 6ms/step - loss: 0.0144 - val_loss: 0.0138\n",
      "Epoch 31/100\n",
      "10/10 [==============================] - 0s 5ms/step - loss: 0.0140 - val_loss: 0.0133\n",
      "Epoch 32/100\n",
      "10/10 [==============================] - 0s 6ms/step - loss: 0.0136 - val_loss: 0.0129\n",
      "Epoch 33/100\n",
      "10/10 [==============================] - 0s 5ms/step - loss: 0.0132 - val_loss: 0.0125\n",
      "Epoch 34/100\n",
      "10/10 [==============================] - 0s 5ms/step - loss: 0.0128 - val_loss: 0.0120\n",
      "Epoch 35/100\n",
      "10/10 [==============================] - 0s 6ms/step - loss: 0.0125 - val_loss: 0.0116\n",
      "Epoch 36/100\n",
      "10/10 [==============================] - 0s 6ms/step - loss: 0.0121 - val_loss: 0.0112\n",
      "Epoch 37/100\n",
      "10/10 [==============================] - 0s 6ms/step - loss: 0.0118 - val_loss: 0.0109\n",
      "Epoch 38/100\n",
      "10/10 [==============================] - 0s 6ms/step - loss: 0.0115 - val_loss: 0.0106\n",
      "Epoch 39/100\n",
      "10/10 [==============================] - 0s 6ms/step - loss: 0.0112 - val_loss: 0.0103\n",
      "Epoch 40/100\n",
      "10/10 [==============================] - 0s 7ms/step - loss: 0.0110 - val_loss: 0.0100\n",
      "Epoch 41/100\n",
      "10/10 [==============================] - 0s 5ms/step - loss: 0.0108 - val_loss: 0.0098\n",
      "Epoch 42/100\n",
      "10/10 [==============================] - 0s 5ms/step - loss: 0.0105 - val_loss: 0.0095\n",
      "Epoch 43/100\n",
      "10/10 [==============================] - 0s 7ms/step - loss: 0.0103 - val_loss: 0.0093\n",
      "Epoch 44/100\n",
      "10/10 [==============================] - 0s 8ms/step - loss: 0.0101 - val_loss: 0.0091\n",
      "Epoch 45/100\n",
      "10/10 [==============================] - 0s 6ms/step - loss: 0.0100 - val_loss: 0.0089\n",
      "Epoch 46/100\n",
      "10/10 [==============================] - 0s 7ms/step - loss: 0.0098 - val_loss: 0.0087\n",
      "Epoch 47/100\n",
      "10/10 [==============================] - 0s 5ms/step - loss: 0.0096 - val_loss: 0.0085\n",
      "Epoch 48/100\n",
      "10/10 [==============================] - 0s 6ms/step - loss: 0.0095 - val_loss: 0.0083\n",
      "Epoch 49/100\n",
      "10/10 [==============================] - 0s 6ms/step - loss: 0.0093 - val_loss: 0.0081\n",
      "Epoch 50/100\n",
      "10/10 [==============================] - 0s 6ms/step - loss: 0.0092 - val_loss: 0.0080\n",
      "Epoch 51/100\n",
      "10/10 [==============================] - 0s 6ms/step - loss: 0.0090 - val_loss: 0.0079\n",
      "Epoch 52/100\n",
      "10/10 [==============================] - 0s 5ms/step - loss: 0.0089 - val_loss: 0.0077\n",
      "Epoch 53/100\n",
      "10/10 [==============================] - 0s 5ms/step - loss: 0.0088 - val_loss: 0.0076\n",
      "Epoch 54/100\n",
      "10/10 [==============================] - 0s 7ms/step - loss: 0.0087 - val_loss: 0.0075\n",
      "Epoch 55/100\n",
      "10/10 [==============================] - 0s 6ms/step - loss: 0.0086 - val_loss: 0.0074\n",
      "Epoch 56/100\n",
      "10/10 [==============================] - 0s 6ms/step - loss: 0.0085 - val_loss: 0.0073\n",
      "Epoch 57/100\n",
      "10/10 [==============================] - 0s 6ms/step - loss: 0.0084 - val_loss: 0.0072\n",
      "Epoch 58/100\n",
      "10/10 [==============================] - 0s 5ms/step - loss: 0.0083 - val_loss: 0.0071\n",
      "Epoch 59/100\n",
      "10/10 [==============================] - 0s 7ms/step - loss: 0.0082 - val_loss: 0.0071\n",
      "Epoch 60/100\n",
      "10/10 [==============================] - 0s 6ms/step - loss: 0.0081 - val_loss: 0.0070\n",
      "Epoch 61/100\n",
      "10/10 [==============================] - 0s 5ms/step - loss: 0.0080 - val_loss: 0.0069\n",
      "Epoch 62/100\n",
      "10/10 [==============================] - 0s 7ms/step - loss: 0.0079 - val_loss: 0.0067\n",
      "Epoch 63/100\n",
      "10/10 [==============================] - 0s 6ms/step - loss: 0.0078 - val_loss: 0.0067\n",
      "Epoch 64/100\n",
      "10/10 [==============================] - 0s 6ms/step - loss: 0.0078 - val_loss: 0.0066\n",
      "Epoch 65/100\n",
      "10/10 [==============================] - 0s 6ms/step - loss: 0.0077 - val_loss: 0.0066\n",
      "Epoch 66/100\n",
      "10/10 [==============================] - 0s 6ms/step - loss: 0.0076 - val_loss: 0.0065\n",
      "Epoch 67/100\n",
      "10/10 [==============================] - 0s 6ms/step - loss: 0.0075 - val_loss: 0.0064\n",
      "Epoch 68/100\n",
      "10/10 [==============================] - 0s 6ms/step - loss: 0.0075 - val_loss: 0.0064\n",
      "Epoch 69/100\n",
      "10/10 [==============================] - 0s 8ms/step - loss: 0.0074 - val_loss: 0.0063\n",
      "Epoch 70/100\n",
      "10/10 [==============================] - 0s 5ms/step - loss: 0.0073 - val_loss: 0.0062\n",
      "Epoch 71/100\n",
      "10/10 [==============================] - 0s 6ms/step - loss: 0.0073 - val_loss: 0.0062\n",
      "Epoch 72/100\n",
      "10/10 [==============================] - 0s 6ms/step - loss: 0.0072 - val_loss: 0.0062\n",
      "Epoch 73/100\n",
      "10/10 [==============================] - 0s 6ms/step - loss: 0.0071 - val_loss: 0.0061\n",
      "Epoch 74/100\n",
      "10/10 [==============================] - 0s 5ms/step - loss: 0.0071 - val_loss: 0.0060\n",
      "Epoch 75/100\n",
      "10/10 [==============================] - 0s 5ms/step - loss: 0.0070 - val_loss: 0.0060\n",
      "Epoch 76/100\n",
      "10/10 [==============================] - 0s 6ms/step - loss: 0.0070 - val_loss: 0.0060\n",
      "Epoch 77/100\n",
      "10/10 [==============================] - 0s 5ms/step - loss: 0.0069 - val_loss: 0.0059\n",
      "Epoch 78/100\n",
      "10/10 [==============================] - 0s 6ms/step - loss: 0.0068 - val_loss: 0.0058\n",
      "Epoch 79/100\n",
      "10/10 [==============================] - 0s 6ms/step - loss: 0.0068 - val_loss: 0.0058\n",
      "Epoch 80/100\n",
      "10/10 [==============================] - 0s 6ms/step - loss: 0.0067 - val_loss: 0.0058\n",
      "Epoch 81/100\n",
      "10/10 [==============================] - 0s 5ms/step - loss: 0.0067 - val_loss: 0.0057\n",
      "Epoch 82/100\n",
      "10/10 [==============================] - 0s 5ms/step - loss: 0.0066 - val_loss: 0.0057\n",
      "Epoch 83/100\n",
      "10/10 [==============================] - 0s 5ms/step - loss: 0.0066 - val_loss: 0.0057\n",
      "Epoch 84/100\n",
      "10/10 [==============================] - 0s 6ms/step - loss: 0.0065 - val_loss: 0.0057\n",
      "Epoch 85/100\n",
      "10/10 [==============================] - 0s 5ms/step - loss: 0.0065 - val_loss: 0.0056\n",
      "Epoch 86/100\n",
      "10/10 [==============================] - 0s 5ms/step - loss: 0.0064 - val_loss: 0.0056\n",
      "Epoch 87/100\n",
      "10/10 [==============================] - 0s 7ms/step - loss: 0.0064 - val_loss: 0.0056\n",
      "Epoch 88/100\n",
      "10/10 [==============================] - 0s 5ms/step - loss: 0.0063 - val_loss: 0.0055\n",
      "Epoch 89/100\n",
      "10/10 [==============================] - 0s 5ms/step - loss: 0.0063 - val_loss: 0.0054\n",
      "Epoch 90/100\n",
      "10/10 [==============================] - 0s 5ms/step - loss: 0.0062 - val_loss: 0.0055\n",
      "Epoch 91/100\n",
      "10/10 [==============================] - 0s 6ms/step - loss: 0.0062 - val_loss: 0.0053\n",
      "Epoch 92/100\n",
      "10/10 [==============================] - 0s 5ms/step - loss: 0.0061 - val_loss: 0.0053\n",
      "Epoch 93/100\n",
      "10/10 [==============================] - 0s 7ms/step - loss: 0.0061 - val_loss: 0.0053\n",
      "Epoch 94/100\n",
      "10/10 [==============================] - 0s 5ms/step - loss: 0.0061 - val_loss: 0.0053\n",
      "Epoch 95/100\n",
      "10/10 [==============================] - 0s 6ms/step - loss: 0.0060 - val_loss: 0.0052\n",
      "Epoch 96/100\n",
      "10/10 [==============================] - 0s 6ms/step - loss: 0.0060 - val_loss: 0.0051\n",
      "Epoch 97/100\n",
      "10/10 [==============================] - 0s 6ms/step - loss: 0.0059 - val_loss: 0.0052\n",
      "Epoch 98/100\n",
      "10/10 [==============================] - 0s 6ms/step - loss: 0.0059 - val_loss: 0.0052\n",
      "Epoch 99/100\n",
      "10/10 [==============================] - 0s 7ms/step - loss: 0.0059 - val_loss: 0.0051\n",
      "Epoch 100/100\n",
      "10/10 [==============================] - 0s 7ms/step - loss: 0.0058 - val_loss: 0.0051\n"
     ]
    }
   ],
   "source": [
    "history = model.fit(x_train_scaled,y_train,epochs=100,validation_split=0.2)"
   ]
  },
  {
   "cell_type": "code",
   "execution_count": 22,
   "id": "61b143b4",
   "metadata": {
    "execution": {
     "iopub.execute_input": "2024-02-03T19:51:36.907764Z",
     "iopub.status.busy": "2024-02-03T19:51:36.906517Z",
     "iopub.status.idle": "2024-02-03T19:51:37.096750Z",
     "shell.execute_reply": "2024-02-03T19:51:37.095328Z"
    },
    "papermill": {
     "duration": 0.23624,
     "end_time": "2024-02-03T19:51:37.099433",
     "exception": false,
     "start_time": "2024-02-03T19:51:36.863193",
     "status": "completed"
    },
    "tags": []
   },
   "outputs": [
    {
     "name": "stdout",
     "output_type": "stream",
     "text": [
      "4/4 [==============================] - 0s 2ms/step\n"
     ]
    }
   ],
   "source": [
    "y_pred = model.predict(x_test_scaled)"
   ]
  },
  {
   "cell_type": "code",
   "execution_count": 23,
   "id": "66df61f5",
   "metadata": {
    "execution": {
     "iopub.execute_input": "2024-02-03T19:51:37.188530Z",
     "iopub.status.busy": "2024-02-03T19:51:37.187960Z",
     "iopub.status.idle": "2024-02-03T19:51:37.198277Z",
     "shell.execute_reply": "2024-02-03T19:51:37.196486Z"
    },
    "papermill": {
     "duration": 0.059134,
     "end_time": "2024-02-03T19:51:37.201209",
     "exception": false,
     "start_time": "2024-02-03T19:51:37.142075",
     "status": "completed"
    },
    "tags": []
   },
   "outputs": [
    {
     "data": {
      "text/plain": [
       "0.6845712037239311"
      ]
     },
     "execution_count": 23,
     "metadata": {},
     "output_type": "execute_result"
    }
   ],
   "source": [
    "from sklearn.metrics import r2_score\n",
    "r2_score(y_test,y_pred)"
   ]
  },
  {
   "cell_type": "code",
   "execution_count": 24,
   "id": "59df7e4e",
   "metadata": {
    "execution": {
     "iopub.execute_input": "2024-02-03T19:51:37.286977Z",
     "iopub.status.busy": "2024-02-03T19:51:37.286572Z",
     "iopub.status.idle": "2024-02-03T19:51:37.559334Z",
     "shell.execute_reply": "2024-02-03T19:51:37.557712Z"
    },
    "papermill": {
     "duration": 0.319816,
     "end_time": "2024-02-03T19:51:37.561964",
     "exception": false,
     "start_time": "2024-02-03T19:51:37.242148",
     "status": "completed"
    },
    "tags": []
   },
   "outputs": [
    {
     "data": {
      "text/plain": [
       "[<matplotlib.lines.Line2D at 0x78f657e0d930>]"
      ]
     },
     "execution_count": 24,
     "metadata": {},
     "output_type": "execute_result"
    },
    {
     "data": {
      "image/png": "[encoded data removed]",
      "text/plain": [
       "<Figure size 640x480 with 1 Axes>"
      ]
     },
     "metadata": {},
     "output_type": "display_data"
    }
   ],
   "source": [
    "import matplotlib.pyplot as plt\n",
    "plt.plot(history.history['loss'])\n",
    "plt.plot(history.history['val_loss'])"
   ]
  }
 ],
 "metadata": {
  "kaggle": {
   "accelerator": "none",
   "dataSources": [
    {
     "datasetId": 14872,
     "sourceId": 228180,
     "sourceType": "datasetVersion"
    }
   ],
   "dockerImageVersionId": 30646,
   "isGpuEnabled": false,
   "isInternetEnabled": true,
   "language": "python",
   "sourceType": "notebook"
  },
  "kernelspec": {
   "display_name": "Python 3",
   "language": "python",
   "name": "python3"
  },
  "language_info": {
   "codemirror_mode": {
    "name": "ipython",
    "version": 3
   },
   "file_extension": ".py",
   "mimetype": "text/x-python",
   "name": "python",
   "nbconvert_exporter": "python",
   "pygments_lexer": "ipython3",
   "version": "3.10.13"
  },
  "papermill": {
   "default_parameters": {},
   "duration": 33.27383,
   "end_time": "2024-02-03T19:51:39.922487",
   "environment_variables": {},
   "exception": null,
   "input_path": "__notebook__.ipynb",
   "output_path": "__notebook__.ipynb",
   "parameters": {},
   "start_time": "2024-02-03T19:51:06.648657",
   "version": "2.5.0"
  }
 },
 "nbformat": 4,
 "nbformat_minor": 5
}
